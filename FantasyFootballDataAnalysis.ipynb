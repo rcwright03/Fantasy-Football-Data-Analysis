{
  "nbformat": 4,
  "nbformat_minor": 0,
  "metadata": {
    "colab": {
      "provenance": []
    },
    "kernelspec": {
      "name": "python3",
      "display_name": "Python 3"
    },
    "language_info": {
      "name": "python"
    }
  },
  "cells": [
    {
      "cell_type": "code",
      "execution_count": null,
      "metadata": {
        "id": "K7IFvfWIxbG4"
      },
      "outputs": [],
      "source": [
        "import pandas as pd\n",
        "\n",
        "abbr_data = pd.read_excel(\"Fantasy Data.xlsx\", sheet_name=\"Abbreviated Spreadsheet\")"
      ]
    },
    {
      "cell_type": "markdown",
      "source": [
        "The function below takes in a player's name as input and returns some of their stats. More information on how the stats were found and calculated can be found below. The function returns the following stats:\n",
        "- Average PPG (points per game) in 2024\n",
        "- Consistency score of PPG in 2024\n",
        "- **AVG consistency score of PPG from 2019-2024**\n",
        "- Total points in 2024\n",
        "- Consistency score of total points per season from 2019-2024\n",
        "- Number of games missed in 2024\n",
        "- Average number of games missed per season from 2019-2024\n",
        "- Consistency score of games missed per season\n",
        "- Team point share percentage in 2024*\n",
        "- Average team point share percentage\n",
        "- Consistency score of team point share percentage from 2019-2024\n",
        "\n",
        "**Consistency score** refers to the average divided by the standard deviation. For example, the consistency score of PPG in 2024 is the player's average PPG in 2024 divided by the player's standard deviation of PPG in 2024. Generally, the higher the consistency score of a stat is, the more consistent the player is in regards to that stat. That being said, this doesn't mean that players with high consistency scores are better players, since players can have both low averages and low standard deviations in stats.\n",
        "\n",
        "**Team point share percentage** refers to the percentage of points the player scores for their team in a season."
      ],
      "metadata": {
        "id": "5V7TpKwR6iid"
      }
    },
    {
      "cell_type": "code",
      "source": [
        "def get_player_stats(player_name):\n",
        "    player_data = abbr_data[abbr_data['Players'].str.lower() == player_name.lower()]\n",
        "\n",
        "    if player_data.empty:\n",
        "        return f\"No data found for player: {player_name}\"\n",
        "\n",
        "    stats = player_data.iloc[0]\n",
        "    avg_2024 = stats[\"2024 AVG\"]\n",
        "    ppg_consistency_2024 = stats[\"2024 Consistency Score\"]\n",
        "    avg_consistency_score = stats[\"AVG Consistency Score\"]\n",
        "    ttl_2024 = stats[\"2024 TTL\"]\n",
        "    ttl_consistency = stats[\"Consistency Score of TTL\"]\n",
        "    games_missed_2024 = stats[\"2024 Games Missed\"]\n",
        "    avg_games_missed = stats[\"AVG Games Missed\"]\n",
        "    games_missed_consistency = stats[\"Consistency Score of Games Missed\"]\n",
        "    team_point_share_2024 = stats[\"2024 Team Point Share %\"]\n",
        "    avg_team_point_share = stats[\"AVG Team Point Share %\"]\n",
        "    team_point_share_consistency = stats[\"Team Point Share % Consistency Score\"]\n",
        "\n",
        "    print(f\"Average PPG (2024): {avg_2024}\")\n",
        "    print(f\"PPG Consistency Score (2024): {ppg_consistency_2024}\")\n",
        "    print(f\"Average PPG Consistency Score: {avg_consistency_score}\")\n",
        "    print(f\"TTL (2024): {ttl_2024}\")\n",
        "    print(f\"TTL Consistency Score: {ttl_consistency}\")\n",
        "    print(f\"Games Missed (2024): {games_missed_2024}\")\n",
        "    print(f\"AVG Games Missed: {avg_games_missed}\")\n",
        "    print(f\"Games Missed Consistency Score: {games_missed_consistency}\")\n",
        "    print(f\"Team Point Share % (2024): {team_point_share_2024}\")\n",
        "    print(f\"AVG Team Point Share %: {avg_team_point_share}\")\n",
        "    print(f\"Team Point Share % Consistency Score: {team_point_share_consistency}\")\n",
        "\n",
        "result = get_player_stats(\"Christian McCaffrey\")"
      ],
      "metadata": {
        "colab": {
          "base_uri": "https://localhost:8080/"
        },
        "id": "YWqb9sP4_rKs",
        "outputId": "ba935359-9161-46b3-f83e-8c6bec933188"
      },
      "execution_count": null,
      "outputs": [
        {
          "output_type": "stream",
          "name": "stdout",
          "text": [
            "Average PPG (2024): 11.9\n",
            "PPG Consistency Score (2024): 2.7674418604651163\n",
            "Average PPG Consistency Score: 2.874990068748138\n",
            "TTL (2024): 47.8\n",
            "TTL Consistency Score: 1.53230173674309\n",
            "Games Missed (2024): 12.0\n",
            "AVG Games Missed: 5.666666666666667\n",
            "Games Missed Consistency Score: 0.9515190335342457\n",
            "Team Point Share % (2024): 3.0253164556962022\n",
            "AVG Team Point Share %: 15.452215950417871\n",
            "Team Point Share % Consistency Score: 1.5558761461207153\n"
          ]
        }
      ]
    },
    {
      "cell_type": "markdown",
      "source": [
        "The function below takes in a player as input, evaluates some of their stats, and categorizes them."
      ],
      "metadata": {
        "id": "kr27qXNT_9_L"
      }
    },
    {
      "cell_type": "code",
      "source": [],
      "metadata": {
        "id": "mHH8NL4eIlJ_"
      },
      "execution_count": null,
      "outputs": []
    }
  ]
}