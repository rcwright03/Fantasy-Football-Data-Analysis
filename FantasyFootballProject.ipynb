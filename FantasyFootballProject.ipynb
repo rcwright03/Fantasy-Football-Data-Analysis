{
  "nbformat": 4,
  "nbformat_minor": 0,
  "metadata": {
    "colab": {
      "provenance": []
    },
    "kernelspec": {
      "name": "python3",
      "display_name": "Python 3"
    },
    "language_info": {
      "name": "python"
    }
  },
  "cells": [
    {
      "cell_type": "code",
      "source": [
        "import pandas as pd\n",
        "\n",
        "def compare_players(player_names, file_path=\"Fantasy Data.xlsx\"):\n",
        "    \"\"\"\n",
        "    Returns two DataFrames:\n",
        "      1) consistency_sorted: grouped by 2024 AVG PPG tiers (labels \"7\"..\"1\"),\n",
        "         then ordered within tier by 2024 Consistency Score (desc).\n",
        "      2) maxppg_sorted: grouped by 2023-2024 Max PPG tiers (labels \"7\"..\"1\"),\n",
        "         then ordered within tier by 2024 TTL PPG (desc).\n",
        "\n",
        "    Notes on MaxPPG tiers:\n",
        "      - To keep exactly 7 tiers with your labels, values <16.5 are folded into tier \"7\",\n",
        "        and values >49.5 are folded into tier \"1\".\n",
        "    \"\"\"\n",
        "\n",
        "    df = pd.read_excel(file_path, sheet_name=\"Draft Projections\")\n",
        "\n",
        "    # Keep only players of interest + needed columns\n",
        "    cols = [\n",
        "        \"PLAYER NAME\",\n",
        "        \"2024 AVG PPG\",\n",
        "        \"2024 TTL PPG\",\n",
        "        \"AVG Games Missed\",\n",
        "        \"2024 Games Missed\",\n",
        "        \"2024 Consistency Score\",\n",
        "        \"2024 Team Point Share %\",\n",
        "        \"2023-2024 Max PPG\",\n",
        "    ]\n",
        "    data = df[df[\"PLAYER NAME\"].isin(player_names)][cols].copy()\n",
        "\n",
        "    # -------------------------\n",
        "    # Consistency table (PPG tiers)\n",
        "    # -------------------------\n",
        "    ppg_bins = [7.7, 10.4, 13.1, 15.8, 18.5, 21.2, 23.9, 26.6]\n",
        "    ppg_labels = [\"7\", \"6\", \"5\", \"4\", \"3\", \"2\", \"1\"]  # 7 bins -> 7 labels\n",
        "\n",
        "    data[\"PPG Tier\"] = pd.cut(\n",
        "        data[\"2024 AVG PPG\"],\n",
        "        bins=ppg_bins,\n",
        "        labels=ppg_labels,\n",
        "        include_lowest=True\n",
        "    )\n",
        "    data[\"PPG Tier\"] = pd.Categorical(data[\"PPG Tier\"], categories=ppg_labels, ordered=True)\n",
        "\n",
        "    consistency_sorted = (\n",
        "        data.sort_values(by=[\"PPG Tier\", \"2024 Consistency Score\"], ascending=[False, False])\n",
        "            .loc[:, [\"PLAYER NAME\", \"2024 AVG PPG\", \"2024 TTL PPG\",\n",
        "                     \"AVG Games Missed\", \"2024 Consistency Score\",\n",
        "                     \"2024 Team Point Share %\", \"PPG Tier\"]]\n",
        "            .reset_index(drop=True)\n",
        "    )\n",
        "\n",
        "    # -------------------------\n",
        "    # MaxPPG table (Max PPG tiers)\n",
        "    # -------------------------\n",
        "    maxppg_bins = [16.5, 22, 27.5, 33, 38.5, 44, 49.5]\n",
        "    maxppg_labels = [\"7\", \"6\", \"5\", \"4\", \"3\", \"2\", \"1\"]  # exactly 7 tiers\n",
        "\n",
        "    # Fold extremes into the nearest tier to maintain 7 labels\n",
        "    def maxppg_tier(val):\n",
        "        if pd.isna(val):\n",
        "            return pd.NA\n",
        "        if val <= maxppg_bins[0]:       # <= 16.5\n",
        "            return \"7\"\n",
        "        elif val <= maxppg_bins[1]:     # 16.5 - 22\n",
        "            return \"6\"\n",
        "        elif val <= maxppg_bins[2]:     # 22 - 27.5\n",
        "            return \"5\"\n",
        "        elif val <= maxppg_bins[3]:     # 27.5 - 33\n",
        "            return \"4\"\n",
        "        elif val <= maxppg_bins[4]:     # 33 - 38.5\n",
        "            return \"3\"\n",
        "        elif val <= maxppg_bins[5]:     # 38.5 - 44\n",
        "            return \"2\"\n",
        "        elif val <= maxppg_bins[6]:     # 44 - 49.5\n",
        "            return \"1\"\n",
        "        else:                           # > 49.5\n",
        "            return \"1\"\n",
        "\n",
        "    data[\"MaxPPG Tier\"] = data[\"2023-2024 Max PPG\"].apply(maxppg_tier)\n",
        "    data[\"MaxPPG Tier\"] = pd.Categorical(data[\"MaxPPG Tier\"],\n",
        "                                         categories=maxppg_labels, ordered=True)\n",
        "\n",
        "    maxppg_sorted = (\n",
        "        data.sort_values(by=[\"MaxPPG Tier\", \"2024 TTL PPG\"], ascending=[False, False])\n",
        "            .loc[:, [\"PLAYER NAME\", \"2024 AVG PPG\", \"2024 TTL PPG\",\n",
        "                     \"2023-2024 Max PPG\", \"2024 Games Missed\",\n",
        "                     \"2024 Team Point Share %\", \"MaxPPG Tier\"]]\n",
        "            .reset_index(drop=True)\n",
        "    )\n",
        "\n",
        "    return consistency_sorted.to_string(index=False), maxppg_sorted.to_string(index=False)\n"
      ],
      "metadata": {
        "id": "Q3-FXAvQK92E"
      },
      "execution_count": null,
      "outputs": []
    },
    {
      "cell_type": "code",
      "source": [
        "# Usage for RB:\n",
        "rbs_to_compare = [\"Breece Hall\", \"Alvin Kamara\"]\n",
        "consistency_table, maxppg_table = compare_players(rbs_to_compare)\n",
        "print(consistency_table)\n",
        "print()\n",
        "print(maxppg_table)"
      ],
      "metadata": {
        "colab": {
          "base_uri": "https://localhost:8080/"
        },
        "id": "_Et0L0RwCNe4",
        "outputId": "b1f5514b-3ce5-4f3a-d71c-aa5612254fed"
      },
      "execution_count": null,
      "outputs": [
        {
          "output_type": "stream",
          "name": "stdout",
          "text": [
            " PLAYER NAME  2024 AVG PPG  2024 TTL PPG  AVG Games Missed  2024 Consistency Score  2024 Team Point Share % PPG Tier\n",
            "Alvin Kamara          18.9         265.3          2.166667                    2.17                    18.21        3\n",
            " Breece Hall          14.8         222.7          3.333333                    1.80                    14.94        5\n",
            "\n",
            " PLAYER NAME  2024 AVG PPG  2024 TTL PPG  2023-2024 Max PPG  2024 Games Missed  2024 Team Point Share % MaxPPG Tier\n",
            "Alvin Kamara          18.9         265.3               44.0                2.0                    18.21           2\n",
            " Breece Hall          14.8         222.7               43.1                1.0                    14.94           2\n"
          ]
        }
      ]
    },
    {
      "cell_type": "code",
      "source": [
        "# TE usage:\n",
        "tes_to_compare = [\"Kyle Pitts\", \"Dalton Kincaid\", \"Jake Ferguson\", \"Tucker Kraft\"]\n",
        "consistency_table, maxppg_table = compare_players(tes_to_compare)\n",
        "print(consistency_table)\n",
        "print()\n",
        "print(maxppg_table)"
      ],
      "metadata": {
        "colab": {
          "base_uri": "https://localhost:8080/"
        },
        "id": "IAo3zo9jAIbq",
        "outputId": "0dc78d1c-25f2-4606-f82f-cf1b8d8a1f57"
      },
      "execution_count": null,
      "outputs": [
        {
          "output_type": "stream",
          "name": "stdout",
          "text": [
            "   PLAYER NAME  2024 AVG PPG  2024 TTL PPG  AVG Games Missed  2024 Consistency Score  2024 Team Point Share % PPG Tier\n",
            "Dalton Kincaid           7.7         100.8               2.0                    2.26                     5.66        7\n",
            " Jake Ferguson           7.7         101.2               3.0                    1.67                     6.69        7\n",
            "  Tucker Kraft           9.7         155.7               1.5                    1.51                    10.21        7\n",
            "\n",
            "   PLAYER NAME  2024 AVG PPG  2024 TTL PPG  2023-2024 Max PPG  2024 Games Missed  2024 Team Point Share % MaxPPG Tier\n",
            "  Tucker Kraft           9.7         155.7               24.8                0.0                    10.21           5\n",
            " Jake Ferguson           7.7         101.2               22.1                3.0                     6.69           5\n",
            "Dalton Kincaid           7.7         100.8               17.5                3.0                     5.66           6\n"
          ]
        }
      ]
    },
    {
      "cell_type": "code",
      "source": [
        "# WR Usage:\n",
        "wrs_to_compare = [\"Adam Thielen\", \"Michael Pittman Jr.\", \"Cedric Tillman\"]\n",
        "consistency_table, maxppg_table = compare_players(wrs_to_compare)\n",
        "print(consistency_table)\n",
        "print()\n",
        "print(maxppg_table)"
      ],
      "metadata": {
        "colab": {
          "base_uri": "https://localhost:8080/"
        },
        "id": "kEb8qY0jEW_y",
        "outputId": "4354ad7b-3e2a-4449-bbe7-b8f0d47385e5"
      },
      "execution_count": null,
      "outputs": [
        {
          "output_type": "stream",
          "name": "stdout",
          "text": [
            "        PLAYER NAME  2024 AVG PPG  2024 TTL PPG  AVG Games Missed  2024 Consistency Score  2024 Team Point Share % PPG Tier\n",
            "       Adam Thielen          14.4         130.1          3.333333                    1.82                    10.81        5\n",
            "Michael Pittman Jr.          10.1         152.6          1.200000                    1.62                    11.64        7\n",
            "     Cedric Tillman           7.3          80.4          5.000000                    0.72                     6.14      NaN\n",
            "\n",
            "        PLAYER NAME  2024 AVG PPG  2024 TTL PPG  2023-2024 Max PPG  2024 Games Missed  2024 Team Point Share % MaxPPG Tier\n",
            "       Adam Thielen          14.4         130.1               31.5                7.0                    10.81           4\n",
            "     Cedric Tillman           7.3          80.4               28.9                5.0                     6.14           4\n",
            "Michael Pittman Jr.          10.1         152.6               27.5                1.0                    11.64           5\n"
          ]
        }
      ]
    },
    {
      "cell_type": "code",
      "source": [
        "# QB Usage:\n",
        "qbs_to_compare = [\"Kyler Murray\", \"Justin Fields\", \"Michael Penix Jr.\", \"Patrick Mahomes II\", \"Caleb Williams\"]\n",
        "consistency_table, maxppg_table = compare_players(qbs_to_compare)\n",
        "print(consistency_table)\n",
        "print()\n",
        "print(maxppg_table)"
      ],
      "metadata": {
        "colab": {
          "base_uri": "https://localhost:8080/"
        },
        "id": "kS3zpSKqTNOU",
        "outputId": "9be8c38d-d249-4ef6-c81f-97aa039680d2"
      },
      "execution_count": null,
      "outputs": [
        {
          "output_type": "stream",
          "name": "stdout",
          "text": [
            "       PLAYER NAME  2024 AVG PPG  2024 TTL PPG  AVG Games Missed  2024 Consistency Score  2024 Team Point Share % PPG Tier\n",
            "Patrick Mahomes II          18.3         293.9          0.333333                    3.89                    17.36        4\n",
            "      Kyler Murray          17.5         280.5          2.833333                    2.53                    18.51        4\n",
            "    Caleb Williams          15.6         249.6          0.000000                    1.97                    18.48        5\n",
            "     Justin Fields          12.0         120.1          4.500000                    1.11                     7.85        6\n",
            " Michael Penix Jr.           5.3          21.2         12.000000                    0.96                     2.74      NaN\n",
            "\n",
            "       PLAYER NAME  2024 AVG PPG  2024 TTL PPG  2023-2024 Max PPG  2024 Games Missed  2024 Team Point Share % MaxPPG Tier\n",
            "Patrick Mahomes II          18.3         293.9               34.9                0.0                    17.36           3\n",
            "      Kyler Murray          17.5         280.5               28.7                0.0                    18.51           4\n",
            "    Caleb Williams          15.6         249.6               29.6                0.0                    18.48           4\n",
            "     Justin Fields          12.0         120.1               33.0                7.0                     7.85           4\n",
            " Michael Penix Jr.           5.3          21.2               12.2               12.0                     2.74           7\n"
          ]
        }
      ]
    },
    {
      "cell_type": "code",
      "source": [
        "# Kicker Usage:\n",
        "qbs_to_compare = [\"Jake Bates\", \"Brandon Aubrey\", \"Cameron Dicker\"]\n",
        "consistency_table, maxppg_table = compare_players(qbs_to_compare)\n",
        "print(consistency_table)\n",
        "print()\n",
        "print(maxppg_table)"
      ],
      "metadata": {
        "colab": {
          "base_uri": "https://localhost:8080/"
        },
        "id": "pzID6XoHL3_o",
        "outputId": "94c2a8b1-3bca-462c-eced-d0223465d622"
      },
      "execution_count": null,
      "outputs": [
        {
          "output_type": "stream",
          "name": "stdout",
          "text": [
            "   PLAYER NAME  2024 AVG PPG  2024 TTL PPG  AVG Games Missed  2024 Consistency Score  2024 Team Point Share % PPG Tier\n",
            "Brandon Aubrey          11.1         178.0               0.0                    2.05                    11.42        6\n",
            "    Jake Bates           9.5         153.0               0.0                    2.50                     7.71        7\n",
            "Cameron Dicker          10.2         164.0               2.0                    2.08                    10.67        7\n",
            "\n",
            "   PLAYER NAME  2024 AVG PPG  2024 TTL PPG  2023-2024 Max PPG  2024 Games Missed  2024 Team Point Share % MaxPPG Tier\n",
            "Brandon Aubrey          11.1         178.0               22.0                0.0                    11.42           6\n",
            "Cameron Dicker          10.2         164.0               21.0                0.0                    10.67           6\n",
            "    Jake Bates           9.5         153.0               19.0                0.0                     7.71           6\n"
          ]
        }
      ]
    },
    {
      "cell_type": "code",
      "source": [
        "# compare consistency of players with composite score\n",
        "import pandas as pd\n",
        "from sklearn.preprocessing import MinMaxScaler\n",
        "\n",
        "def compare_consistency_composite(player_names, file_path=\"Fantasy Data.xlsx\"):\n",
        "    \"\"\"\n",
        "    Compare players by combining multiple consistency-related stats into one score.\n",
        "    \"\"\"\n",
        "\n",
        "    df = pd.read_excel(file_path, sheet_name=\"Draft Projections\")\n",
        "\n",
        "    # Filter only chosen players\n",
        "    relevant_cols = [\n",
        "        \"PLAYER NAME\",\n",
        "        \"AVG Consistency Score\",\n",
        "        \"TTL Consistency Score\",\n",
        "        \"Team Point Share % Consistency Score\",\n",
        "        \"AVG Games Missed\",\n",
        "        \"Overall AVG PPG Consistency Score\"\n",
        "    ]\n",
        "    filtered_df = df[df[\"PLAYER NAME\"].isin(player_names)][relevant_cols].copy()\n",
        "\n",
        "    # Normalize numeric columns so they are on the same scale\n",
        "    scaler = MinMaxScaler()\n",
        "    numeric_cols = [\n",
        "        \"AVG Consistency Score\",\n",
        "        \"TTL Consistency Score\",\n",
        "        \"Team Point Share % Consistency Score\",\n",
        "        \"AVG Games Missed\",\n",
        "        \"Overall AVG PPG Consistency Score\"\n",
        "    ]\n",
        "    filtered_df[numeric_cols] = scaler.fit_transform(filtered_df[numeric_cols])\n",
        "\n",
        "    # Create composite score (you can tweak the weights)\n",
        "    filtered_df[\"Overall Consistency Composite\"] = (\n",
        "        filtered_df[\"AVG Consistency Score\"] * 0.3 +\n",
        "        filtered_df[\"TTL Consistency Score\"] * 0.3 +\n",
        "        filtered_df[\"Team Point Share % Consistency Score\"] * 0.15 +\n",
        "        (1 - filtered_df[\"AVG Games Missed\"]) * 0.15 +  # fewer games missed = better\n",
        "        filtered_df[\"Overall AVG PPG Consistency Score\"] * 0.1\n",
        "    )\n",
        "\n",
        "    # Sort descending by composite score\n",
        "    filtered_df = filtered_df.sort_values(\n",
        "        by=\"Overall Consistency Composite\", ascending=False\n",
        "    ).reset_index(drop=True)\n",
        "\n",
        "    return filtered_df.to_string(index=False)\n"
      ],
      "metadata": {
        "id": "IZ42JURvUqK3"
      },
      "execution_count": null,
      "outputs": []
    },
    {
      "cell_type": "code",
      "source": [
        "# Example compare_consistency_composite\n",
        "players_to_compare = [\"Jonathan Taylor\", \"James Cook\", \"Kenneth Walker III\", \"Alvin Kamara\", \"Josh Jacobs\", \"Saquon Barkley\", \"Bijan Robinson\"]\n",
        "results = compare_consistency_composite(players_to_compare)\n",
        "print(results)\n",
        "#"
      ],
      "metadata": {
        "colab": {
          "base_uri": "https://localhost:8080/"
        },
        "id": "QDbvgUTqeh1o",
        "outputId": "fe60d445-2ad0-4f5b-e9ea-b80b08db8702"
      },
      "execution_count": null,
      "outputs": [
        {
          "output_type": "stream",
          "name": "stdout",
          "text": [
            "       PLAYER NAME  AVG Consistency Score  TTL Consistency Score  Team Point Share % Consistency Score  AVG Games Missed  Overall AVG PPG Consistency Score  Overall Consistency Composite\n",
            "Kenneth Walker III               0.287356               1.000000                              1.000000          0.692308                           1.000000                       0.682361\n",
            "    Bijan Robinson               1.000000               0.089921                              0.469600          0.000000                           0.294466                       0.576863\n",
            "       Josh Jacobs               0.678161               0.058692                              0.195944          0.500000                           0.711294                       0.396577\n",
            "      Alvin Kamara               0.425287               0.054216                              0.216758          0.500000                           0.468088                       0.298173\n",
            "   Jonathan Taylor               0.448276               0.016442                              0.063971          0.738462                           0.361342                       0.224376\n",
            "        James Cook               0.000000               0.022006                              0.048581          0.076923                           0.000000                       0.152350\n",
            "    Saquon Barkley               0.080460               0.000000                              0.000000          1.000000                           0.104338                       0.034572\n"
          ]
        }
      ]
    },
    {
      "cell_type": "code",
      "source": [
        "# compare consistency of players through grouping\n",
        "def compare_consistency_grouped(player_names, file_path=\"Fantasy Data.xlsx\"):\n",
        "    \"\"\"\n",
        "    Compare players by grouping:\n",
        "    1. AVG Consistency Score bins\n",
        "    2. Games Missed bins\n",
        "    3. Sort within group by TTL Consistency Score (descending)\n",
        "    \"\"\"\n",
        "\n",
        "    df = pd.read_excel(file_path, sheet_name=\"Draft Projections\")\n",
        "\n",
        "    # Filter only chosen players\n",
        "    relevant_cols = [\n",
        "        \"PLAYER NAME\",\n",
        "        \"AVG Consistency Score\",\n",
        "        \"TTL Consistency Score\",\n",
        "        \"Team Point Share % Consistency Score\",\n",
        "        \"AVG Games Missed\",\n",
        "        \"Overall AVG PPG Consistency Score\"\n",
        "    ]\n",
        "    filtered_df = df[df[\"PLAYER NAME\"].isin(player_names)][relevant_cols].copy()\n",
        "\n",
        "    # Define AVG Consistency Score bins\n",
        "    consistency_bins = [0, 0.98, 1.35, 1.72, 2.09, 2.46, 2.83, 3.2, 3.57, float(\"inf\")]\n",
        "    consistency_labels = [\n",
        "        \"9\", \"8\", \"7\", \"6\", \"5\",\n",
        "        \"4\", \"3\", \"2\", \"1\"\n",
        "    ]\n",
        "    filtered_df[\"Consistency Tier\"] = pd.cut(\n",
        "        filtered_df[\"AVG Consistency Score\"], bins=consistency_bins, labels=consistency_labels, include_lowest=True\n",
        "    )\n",
        "\n",
        "    # Define Games Missed bins\n",
        "    def games_missed_group(x):\n",
        "        if x == 0:\n",
        "            return \"0\"\n",
        "        elif x <= 2:\n",
        "            return \"1-2\"\n",
        "        elif x <= 4:\n",
        "            return \"3-4\"\n",
        "        else:\n",
        "            return \"5+\"\n",
        "\n",
        "    filtered_df[\"Games Missed Tier\"] = filtered_df[\"AVG Games Missed\"].apply(games_missed_group)\n",
        "\n",
        "    # Make categorical to ensure proper tier order\n",
        "    filtered_df[\"Consistency Tier\"] = pd.Categorical(\n",
        "        filtered_df[\"Consistency Tier\"], categories=consistency_labels, ordered=True\n",
        "    )\n",
        "    filtered_df[\"Games Missed Tier\"] = pd.Categorical(\n",
        "        filtered_df[\"Games Missed Tier\"], categories=[\"0\", \"1-2\", \"3-4\", \"5+\"], ordered=True\n",
        "    )\n",
        "\n",
        "    # Sort by Consistency Tier, then Games Missed Tier, then TTL Consistency Score\n",
        "    filtered_df = filtered_df.sort_values(\n",
        "        by=[\"Consistency Tier\", \"Games Missed Tier\", \"TTL Consistency Score\"],\n",
        "        ascending=[False, True, False]\n",
        "    ).reset_index(drop=True)\n",
        "\n",
        "    return filtered_df.to_string(index=False)\n"
      ],
      "metadata": {
        "id": "dV_BZv34e9D-"
      },
      "execution_count": null,
      "outputs": []
    },
    {
      "cell_type": "code",
      "source": [
        "# example compare_consistency_grouped\n",
        "rbs_to_compare = [\"Jonathan Taylor\", \"James Cook\", \"Kenneth Walker III\", \"Alvin Kamara\", \"Josh Jacobs\", \"Saquon Barkley\", \"Bijan Robinson\"]\n",
        "results = compare_consistency_grouped(rbs_to_compare)\n",
        "print(results)"
      ],
      "metadata": {
        "colab": {
          "base_uri": "https://localhost:8080/"
        },
        "id": "ET5NJeskfCZE",
        "outputId": "c50af51e-001b-4e6b-987f-c414fbafdcd6"
      },
      "execution_count": null,
      "outputs": [
        {
          "output_type": "stream",
          "name": "stdout",
          "text": [
            "       PLAYER NAME  AVG Consistency Score  TTL Consistency Score  Team Point Share % Consistency Score  AVG Games Missed  Overall AVG PPG Consistency Score Consistency Tier Games Missed Tier\n",
            "    Bijan Robinson                   2.51               5.882483                              9.587161          0.000000                           4.106181                4                 0\n",
            "       Josh Jacobs                   2.23               4.495876                              5.268434          2.166667                           6.784956                5               3-4\n",
            "Kenneth Walker III                   1.89              46.291074                             17.957722          3.000000                           8.640345                6               3-4\n",
            "      Alvin Kamara                   2.01               4.297149                              5.596911          2.166667                           5.221976                6               3-4\n",
            "   Jonathan Taylor                   2.03               2.619936                              3.185693          3.200000                           4.535967                6               3-4\n",
            "        James Cook                   1.64               2.866986                              2.942809          0.333333                           2.213777                7               1-2\n",
            "    Saquon Barkley                   1.71               1.889897                              2.176126          4.333333                           2.884313                7                5+\n"
          ]
        }
      ]
    },
    {
      "cell_type": "code",
      "source": [],
      "metadata": {
        "id": "wZH0AQ6p8SBh"
      },
      "execution_count": null,
      "outputs": []
    }
  ]
}